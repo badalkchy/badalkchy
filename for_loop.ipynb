{
  "nbformat": 4,
  "nbformat_minor": 0,
  "metadata": {
    "colab": {
      "name": "for loop.ipynb",
      "provenance": [],
      "authorship_tag": "ABX9TyNeP4FpzxD2Gr1vCeMK8wt1",
      "include_colab_link": true
    },
    "kernelspec": {
      "name": "python3",
      "display_name": "Python 3"
    },
    "language_info": {
      "name": "python"
    }
  },
  "cells": [
    {
      "cell_type": "markdown",
      "metadata": {
        "id": "view-in-github",
        "colab_type": "text"
      },
      "source": [
        "<a href=\"https://colab.research.google.com/github/badalkchy/badalkchy/blob/main/for_loop.ipynb\" target=\"_parent\"><img src=\"https://colab.research.google.com/assets/colab-badge.svg\" alt=\"Open In Colab\"/></a>"
      ]
    },
    {
      "cell_type": "code",
      "metadata": {
        "colab": {
          "base_uri": "https://localhost:8080/"
        },
        "id": "OhITRoT2Nz1P",
        "outputId": "e4d9172f-ee7b-4117-d757-9aacfdfcbbc1"
      },
      "source": [
        "x = 2\n",
        "y = 6\n",
        "z = 8\n",
        "\n",
        "if x == 7:\n",
        "  print(x)\n",
        "else:\n",
        "  print(y)"
      ],
      "execution_count": null,
      "outputs": [
        {
          "output_type": "stream",
          "text": [
            "6\n"
          ],
          "name": "stdout"
        }
      ]
    },
    {
      "cell_type": "code",
      "metadata": {
        "colab": {
          "base_uri": "https://localhost:8080/"
        },
        "id": "uf4OawAZOdWC",
        "outputId": "37a35f89-ac9a-4e04-904f-40d73c01de48"
      },
      "source": [
        "if x == 9:\n",
        "  print(x)\n",
        "elif x == 5:\n",
        "  print(y)\n",
        "else:\n",
        "  print(z)"
      ],
      "execution_count": null,
      "outputs": [
        {
          "output_type": "stream",
          "text": [
            "8\n"
          ],
          "name": "stdout"
        }
      ]
    },
    {
      "cell_type": "code",
      "metadata": {
        "colab": {
          "base_uri": "https://localhost:8080/"
        },
        "id": "OTy2hSHaO2Xc",
        "outputId": "65ddb02e-6649-4784-eb8f-01fb5977a688"
      },
      "source": [
        "lst = [6, 8, 4.98, 'hi', \"hello\"]\n",
        "\n",
        "if 7 in lst:\n",
        "  print(lst[0])\n",
        "elif 'b' in lst:\n",
        "  print(lst[-1])\n",
        "else:\n",
        "  print(lst)"
      ],
      "execution_count": null,
      "outputs": [
        {
          "output_type": "stream",
          "text": [
            "[6, 8, 4.98, 'hi', 'hello']\n"
          ],
          "name": "stdout"
        }
      ]
    },
    {
      "cell_type": "code",
      "metadata": {
        "colab": {
          "base_uri": "https://localhost:8080/"
        },
        "id": "2oQ1gXF4QZii",
        "outputId": "be1715b9-cd49-4aaa-ddc2-1fa74f28336f"
      },
      "source": [
        "for i in range(2,11,2):\n",
        "  print(i)"
      ],
      "execution_count": null,
      "outputs": [
        {
          "output_type": "stream",
          "text": [
            "2\n",
            "4\n",
            "6\n",
            "8\n",
            "10\n"
          ],
          "name": "stdout"
        }
      ]
    },
    {
      "cell_type": "code",
      "metadata": {
        "colab": {
          "base_uri": "https://localhost:8080/"
        },
        "id": "bppG1UALQubK",
        "outputId": "f8dcb774-bf2a-4203-b6a0-d841de5c59e6"
      },
      "source": [
        "list(range(5))"
      ],
      "execution_count": null,
      "outputs": [
        {
          "output_type": "execute_result",
          "data": {
            "text/plain": [
              "[0, 1, 2, 3, 4]"
            ]
          },
          "metadata": {
            "tags": []
          },
          "execution_count": 20
        }
      ]
    },
    {
      "cell_type": "code",
      "metadata": {
        "colab": {
          "base_uri": "https://localhost:8080/"
        },
        "id": "TapK9VNWQ3q0",
        "outputId": "80b7195c-5f88-4ea2-c2d4-d2c168345669"
      },
      "source": [
        "# a=1\n",
        "a = int(input('Enter a number : '))\n",
        "\n",
        "if a==1:\n",
        "  print(\"sunday\")\n",
        "elif a==2:\n",
        "  print(\"Monday\")\n",
        "elif a==3:\n",
        "  print(\"Tuesday\")\n",
        "elif a==4:\n",
        "  print(\"Wednesday\")\n",
        "elif a==5:\n",
        "  print(\"Thursday\")\n",
        "elif a==6:\n",
        "  print(\"Friday\")\n",
        "elif a==7:\n",
        "  print(\"Saturday\")\n",
        "else:\n",
        "  print(\"Invalid Input\")\n",
        "            "
      ],
      "execution_count": 2,
      "outputs": [
        {
          "output_type": "stream",
          "text": [
            "Enter a number : 5\n",
            "Thursday\n"
          ],
          "name": "stdout"
        }
      ]
    },
    {
      "cell_type": "code",
      "metadata": {
        "id": "P2dGEGA_YMO1",
        "colab": {
          "base_uri": "https://localhost:8080/",
          "height": 52
        },
        "outputId": "87ab618b-e7e3-40d5-a708-6b2373c2d55f"
      },
      "source": [
        "a = input('Enter a number : ')\n",
        "a"
      ],
      "execution_count": 3,
      "outputs": [
        {
          "output_type": "stream",
          "text": [
            "Enter a number : 5\n"
          ],
          "name": "stdout"
        },
        {
          "output_type": "execute_result",
          "data": {
            "application/vnd.google.colaboratory.intrinsic+json": {
              "type": "string"
            },
            "text/plain": [
              "'5'"
            ]
          },
          "metadata": {
            "tags": []
          },
          "execution_count": 3
        }
      ]
    },
    {
      "cell_type": "code",
      "metadata": {
        "colab": {
          "base_uri": "https://localhost:8080/"
        },
        "id": "Ra3-gBf5T_SS",
        "outputId": "271ee4f1-c2d4-45f6-cccb-c8c2eb502a1a"
      },
      "source": [
        "type(a)"
      ],
      "execution_count": 4,
      "outputs": [
        {
          "output_type": "execute_result",
          "data": {
            "text/plain": [
              "str"
            ]
          },
          "metadata": {
            "tags": []
          },
          "execution_count": 4
        }
      ]
    },
    {
      "cell_type": "code",
      "metadata": {
        "colab": {
          "base_uri": "https://localhost:8080/"
        },
        "id": "O2wBXV0fUG9-",
        "outputId": "72359d5f-64a4-421e-dd85-fc703e6bea04"
      },
      "source": [
        "b = int(input('Enter a number : ')\n",
        "b"
      ],
      "execution_count": 6,
      "outputs": [
        {
          "output_type": "stream",
          "text": [
            "Enter a number : 5\n"
          ],
          "name": "stdout"
        },
        {
          "output_type": "execute_result",
          "data": {
            "text/plain": [
              "5"
            ]
          },
          "metadata": {
            "tags": []
          },
          "execution_count": 6
        }
      ]
    },
    {
      "cell_type": "code",
      "metadata": {
        "colab": {
          "base_uri": "https://localhost:8080/"
        },
        "id": "WYIyR0aZUJAV",
        "outputId": "4924cba7-eb06-495a-dfb5-46cee8dff06c"
      },
      "source": [
        "type(b)"
      ],
      "execution_count": 7,
      "outputs": [
        {
          "output_type": "execute_result",
          "data": {
            "text/plain": [
              "int"
            ]
          },
          "metadata": {
            "tags": []
          },
          "execution_count": 7
        }
      ]
    },
    {
      "cell_type": "code",
      "metadata": {
        "id": "pPE3RHxlUN7b"
      },
      "source": [
        "a=int(input(\"Enter a number):"
      ],
      "execution_count": null,
      "outputs": []
    }
  ]
}